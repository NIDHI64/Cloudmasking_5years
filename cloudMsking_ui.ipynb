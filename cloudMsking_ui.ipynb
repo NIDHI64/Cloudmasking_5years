{
 "cells": [
  {
   "cell_type": "code",
   "execution_count": 1,
   "id": "bb12562e",
   "metadata": {},
   "outputs": [],
   "source": [
    "import ee\n",
    "import geemap\n",
    "from ipywidgets import Select, Button, Layout, VBox\n",
    "\n",
    "# Authenticate and initialize Earth Engine\n",
    "#ee.Authenticate()\n",
    "ee.Initialize()\n"
   ]
  },
  {
   "cell_type": "code",
   "execution_count": 2,
   "id": "7e81e462",
   "metadata": {},
   "outputs": [],
   "source": [
    "bangalore = ee.FeatureCollection('users/ujavalgandhi/public/bangalore_boundary')\n",
    "change = ee.FeatureCollection('users/ujavalgandhi/e2e/bangalore_change_gcps')\n",
    "nochange = ee.FeatureCollection('users/ujavalgandhi/e2e/bangalore_nochange_gcps')\n",
    "s2 = ee.ImageCollection('COPERNICUS/S2')\n",
    "\n",
    "geometry = bangalore.geometry()\n",
    "\n",
    "rgbVis = {\n",
    "    'min': 0.0,\n",
    "    'max': 3000,\n",
    "    'bands': ['B4', 'B3', 'B2'],\n",
    "}"
   ]
  },
  {
   "cell_type": "code",
   "execution_count": 3,
   "id": "242f0b8f",
   "metadata": {},
   "outputs": [],
   "source": [
    "def maskS2clouds(image):\n",
    "    qa = image.select('QA60')\n",
    "    cloudBitMask = 1 << 10\n",
    "    cirrusBitMask = 1 << 11\n",
    "    mask = qa.bitwiseAnd(cloudBitMask).eq(0).And(\n",
    "        qa.bitwiseAnd(cirrusBitMask).eq(0))\n",
    "    return image.updateMask(mask) \\\n",
    "        .select(\"B.*\") \\\n",
    "        .copyProperties(image, [\"system:time_start\"])\n",
    "\n",
    "# Create dropdown for year selection\n",
    "yearDropdown = Select(\n",
    "    options=['2018', '2019', '2020', '2021', '2022'],\n",
    "    description='Select a year:',\n",
    "    style={'description_width': 'initial'},\n",
    "    layout=Layout(width='100%')\n",
    ")"
   ]
  },
  {
   "cell_type": "code",
   "execution_count": 4,
   "id": "c423c75c",
   "metadata": {},
   "outputs": [],
   "source": [
    "def updateImage(change):\n",
    "    selectedYear = yearDropdown.value\n",
    "    startDate = ee.Date(selectedYear + '-01-01')\n",
    "    endDate = ee.Date(selectedYear + '-02-01')\n",
    "\n",
    "    filtered = s2 \\\n",
    "        .filter(ee.Filter.date(startDate, endDate)) \\\n",
    "        .filter(ee.Filter.bounds(geometry)) \\\n",
    "        .map(maskS2clouds)\n",
    "\n",
    "    image = filtered.median().clip(geometry)\n",
    "    Map.addLayer(image, rgbVis, 'Image')\n",
    "\n",
    "# Add the event handler to the year dropdown\n",
    "yearDropdown.observe(updateImage, 'value')\n",
    "\n",
    "# Create a vertical box layout and add the year dropdown\n",
    "box_layout = Layout(display='flex', flex_flow='column', align_items='stretch', width='300px')\n",
    "widgets = VBox([yearDropdown], layout=box_layout)"
   ]
  },
  {
   "cell_type": "code",
   "execution_count": 5,
   "id": "134da449",
   "metadata": {},
   "outputs": [
    {
     "data": {
      "application/vnd.jupyter.widget-view+json": {
       "model_id": "95a430fd04b54dcc9547b2a42bd0d756",
       "version_major": 2,
       "version_minor": 0
      },
      "text/plain": [
       "VBox(children=(VBox(children=(Select(description='Select a year:', layout=Layout(width='100%'), options=('2018…"
      ]
     },
     "execution_count": 5,
     "metadata": {},
     "output_type": "execute_result"
    }
   ],
   "source": [
    "# Create the interactive map\n",
    "Map = geemap.Map()\n",
    "Map.addLayer(bangalore, {}, 'Bangalore')\n",
    "Map.addLayer(change, {'color': 'FF0000'}, 'Change')\n",
    "Map.addLayer(nochange, {'color': '00FF00'}, 'No Change')\n",
    "Map.centerObject(geometry, 12)\n",
    "\n",
    "# Display the widgets and map\n",
    "VBox([widgets, Map])"
   ]
  },
  {
   "cell_type": "code",
   "execution_count": null,
   "id": "16fce48a",
   "metadata": {},
   "outputs": [],
   "source": []
  }
 ],
 "metadata": {
  "kernelspec": {
   "display_name": "Python 3 (ipykernel)",
   "language": "python",
   "name": "python3"
  },
  "language_info": {
   "codemirror_mode": {
    "name": "ipython",
    "version": 3
   },
   "file_extension": ".py",
   "mimetype": "text/x-python",
   "name": "python",
   "nbconvert_exporter": "python",
   "pygments_lexer": "ipython3",
   "version": "3.10.9"
  }
 },
 "nbformat": 4,
 "nbformat_minor": 5
}
